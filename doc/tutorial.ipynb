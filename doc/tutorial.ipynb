{
 "cells": [
  {
   "cell_type": "markdown",
   "metadata": {},
   "source": [
    "# Dolfinh5tools tutorial"
   ]
  },
  {
   "cell_type": "markdown",
   "metadata": {},
   "source": [
    "Updated: 16 October 2015\n",
    "Author: Marijan Beg\n",
    "\n",
    "This tutorial demonstates the use of dolfinh5tools for saving data obtained using FEniCS.\n",
    "\n",
    "The time dependent heat equation is used."
   ]
  },
  {
   "cell_type": "markdown",
   "metadata": {},
   "source": [
    "## Saving data"
   ]
  },
  {
   "cell_type": "markdown",
   "metadata": {},
   "source": [
    "Firstly, the time-dependent heat equation problem is defined (courtesy of Fenics project http://fenicsproject.org/pub/course/lectures/2012-06-29-rognes-imperial-uk/lecture_04_time_dependent_pdes.pdf)"
   ]
  },
  {
   "cell_type": "code",
   "execution_count": 1,
   "metadata": {
    "collapsed": false
   },
   "outputs": [
    {
     "name": "stderr",
     "output_type": "stream",
     "text": [
      "DEBUG:FFC:Reusing form from cache.\n",
      "DEBUG:FFC:Reusing form from cache.\n"
     ]
    }
   ],
   "source": [
    "# Time dependent heat equation.\n",
    "from fenics import *\n",
    "\n",
    "# Create mesh and define function space\n",
    "mesh = UnitSquareMesh(5, 5)\n",
    "V = FunctionSpace(mesh, 'Lagrange', 1)\n",
    "\n",
    "# Define initial condition expression g (will also be used as boundary\n",
    "# condition), and interpolate into initial function u0\n",
    "alpha = 3.0\n",
    "beta = 1.2\n",
    "g = Expression('1 + x[0]*x[0] + alpha*x[1]*x[1] + beta*t',\n",
    "               alpha=alpha, beta=beta, t=0, degree=2)\n",
    "u0 = interpolate(g, V)\n",
    "\n",
    "# Define boundary condition\n",
    "bc = DirichletBC(V, g, \"on_boundary\")\n",
    "\n",
    "# Define timestep and end-time\n",
    "dt = 0.2\n",
    "T = 1.8\n",
    "\n",
    "# Define variational problem for each time-step\n",
    "u = TrialFunction(V)\n",
    "v = TestFunction(V)\n",
    "f = Constant(beta - 2 - 2*alpha)\n",
    "a = u*v*dx + dt*inner(grad(u), grad(v))*dx\n",
    "L = (u0 + dt*f)*v*dx\n",
    "\n",
    "# Assemble once before the time-stepping begins\n",
    "A = assemble(a)\n",
    "\n",
    "# Define function for unknown at this time step\n",
    "u1 = Function(V)\n",
    "\n",
    "t = dt"
   ]
  },
  {
   "cell_type": "markdown",
   "metadata": {},
   "source": [
    "Now, the savingdata module is imported, files to which the data would be saved are created, and the mesh is saved."
   ]
  },
  {
   "cell_type": "code",
   "execution_count": 2,
   "metadata": {
    "collapsed": false
   },
   "outputs": [
    {
     "name": "stdout",
     "output_type": "stream",
     "text": [
      "Debug: (0/1) opening file heat_equation_data.h5\n",
      "Debug: (0/1) writing json file heat_equation_data.json\n"
     ]
    }
   ],
   "source": [
    "# Import dolfinh5tools\n",
    "from dolfinh5tools import openh5\n",
    "\n",
    "# Create a saving object.\n",
    "h5file = openh5('heat_equation_data', functionspace=V, mode='w')\n",
    "\n",
    "# Save mesh to h5 file.\n",
    "h5file.save_mesh(name='mesh')"
   ]
  },
  {
   "cell_type": "markdown",
   "metadata": {},
   "source": [
    "Two files are created."
   ]
  },
  {
   "cell_type": "code",
   "execution_count": 3,
   "metadata": {
    "collapsed": false
   },
   "outputs": [
    {
     "name": "stdout",
     "output_type": "stream",
     "text": [
      "heat_equation_data.h5  heat_equation_data.json\r\n"
     ]
    }
   ],
   "source": [
    "!ls *.h5 *.json"
   ]
  },
  {
   "cell_type": "markdown",
   "metadata": {},
   "source": [
    "Now, the data is saved at every time step."
   ]
  },
  {
   "cell_type": "code",
   "execution_count": 4,
   "metadata": {
    "collapsed": false
   },
   "outputs": [
    {
     "name": "stderr",
     "output_type": "stream",
     "text": [
      "DEBUG:FFC:Reusing form from cache.\n",
      "DEBUG:FFC:Reusing form from cache.\n",
      "DEBUG:FFC:Reusing form from cache.\n",
      "DEBUG:FFC:Reusing form from cache.\n",
      "DEBUG:FFC:Reusing form from cache.\n",
      "DEBUG:FFC:Reusing form from cache.\n",
      "DEBUG:FFC:Reusing form from cache.\n",
      "DEBUG:FFC:Reusing form from cache.\n",
      "DEBUG:FFC:Reusing form from cache.\n"
     ]
    },
    {
     "name": "stdout",
     "output_type": "stream",
     "text": [
      "Time:  0.2\n",
      "Debug: (0/1) writing json file heat_equation_data.json\n",
      "Time:  0.4\n",
      "Debug: (0/1) writing json file heat_equation_data.json\n",
      "Time:  0.6\n",
      "Debug: (0/1) writing json file heat_equation_data.json\n",
      "Time:  0.8\n",
      "Debug: (0/1) writing json file heat_equation_data.json\n",
      "Time:  1.0\n",
      "Debug: (0/1) writing json file heat_equation_data.json\n",
      "Time:  1.2\n",
      "Debug: (0/1) writing json file heat_equation_data.json\n",
      "Time:  1.4\n",
      "Debug: (0/1) writing json file heat_equation_data.json\n",
      "Time:  1.6\n",
      "Debug: (0/1) writing json file heat_equation_data.json\n",
      "Time:  1.8\n",
      "Debug: (0/1) writing json file heat_equation_data.json\n"
     ]
    }
   ],
   "source": [
    "while t <= T:\n",
    "    print 'Time: ', t\n",
    "    # Assemble right-hand side vector\n",
    "    b = assemble(L)\n",
    "\n",
    "    # Update and apply boundary condition\n",
    "    g.t = t\n",
    "    bc.apply(A, b)\n",
    "\n",
    "    # Solve linear system of equations\n",
    "    solve(A, u1.vector(), b)\n",
    "    \n",
    "    # Save data in u1 at time step t.\n",
    "    h5file.write(u0, field_name='u', t=t)\n",
    "    \n",
    "    # Update time and previous function\n",
    "    t += dt\n",
    "    u0.assign(u1)"
   ]
  },
  {
   "cell_type": "markdown",
   "metadata": {},
   "source": [
    "After the saving is completed, the hf file is closed."
   ]
  },
  {
   "cell_type": "code",
   "execution_count": 6,
   "metadata": {
    "collapsed": true
   },
   "outputs": [],
   "source": [
    "h5file.close()"
   ]
  },
  {
   "cell_type": "markdown",
   "metadata": {},
   "source": [
    "## Loading data from the saved h5 file.\n",
    "\n",
    "The data can be loaded using the loading object at any time steps that was previously saved. The loaded data is plotted along $y=5$ line."
   ]
  },
  {
   "cell_type": "code",
   "execution_count": 10,
   "metadata": {
    "collapsed": false
   },
   "outputs": [
    {
     "name": "stderr",
     "output_type": "stream",
     "text": [
      "DEBUG:FFC:Reusing form from cache.\n",
      "DEBUG:FFC:Reusing form from cache.\n",
      "DEBUG:FFC:Reusing form from cache.\n",
      "DEBUG:FFC:Reusing form from cache.\n",
      "DEBUG:FFC:Reusing form from cache.\n",
      "DEBUG:FFC:Reusing form from cache.\n",
      "DEBUG:FFC:Reusing form from cache.\n",
      "DEBUG:FFC:Reusing form from cache.\n",
      "DEBUG:FFC:Reusing form from cache.\n"
     ]
    },
    {
     "name": "stdout",
     "output_type": "stream",
     "text": [
      "Saved fields:  [u'u']\n",
      "Times at which the field was saved:  [0.2, 0.4, 0.6000000000000001, 0.8, 1.0, 1.2, 1.4, 1.5999999999999999, 1.7999999999999998]\n"
     ]
    },
    {
     "data": {
      "image/png": "[encoded data removed]",
      "text/plain": [
       "<matplotlib.figure.Figure at 0x7ff82bbd2f90>"
      ]
     },
     "metadata": {},
     "output_type": "display_data"
    }
   ],
   "source": [
    "import numpy as np\n",
    "import matplotlib.pyplot as plt\n",
    "%matplotlib inline\n",
    "\n",
    "# Create a loading object.\n",
    "h5file = openh5('heat_equation_data', mode='r')\n",
    "\n",
    "# Load the mesh.\n",
    "mesh = h5file.load_mesh(name='mesh')\n",
    "\n",
    "# Get field names and times at which they were saved.\n",
    "fields_list = h5file.fields()\n",
    "print 'Saved fields: ', fields_list\n",
    "\n",
    "t_list = h5file.times(field_name='u')\n",
    "print 'Times at which the field was saved: ', t_list\n",
    "\n",
    "def plot_along_line(u, xmin=0, xmax=1):\n",
    "    x_array = np.linspace(0, 1, 50)\n",
    "    u_values = []\n",
    "    for x in x_array:\n",
    "        u_values.append(u(x, 0))\n",
    "        \n",
    "    plt.plot(x_array, u_values)\n",
    "    plt.xlabel('x')\n",
    "    plt.ylabel('u')\n",
    "    plt.grid()\n",
    "    \n",
    "for t in t_list:\n",
    "    # Load the field.\n",
    "    u = h5file.read(t=t, field_name='u')\n",
    "    plot_along_line(u)"
   ]
  }
 ],
 "metadata": {
  "kernelspec": {
   "display_name": "Python 2",
   "language": "python",
   "name": "python2"
  },
  "language_info": {
   "codemirror_mode": {
    "name": "ipython",
    "version": 2
   },
   "file_extension": ".py",
   "mimetype": "text/x-python",
   "name": "python",
   "nbconvert_exporter": "python",
   "pygments_lexer": "ipython2",
   "version": "2.7.6"
  }
 },
 "nbformat": 4,
 "nbformat_minor": 0
}
